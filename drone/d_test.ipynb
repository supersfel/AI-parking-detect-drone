{
 "cells": [
  {
   "cell_type": "code",
   "execution_count": 1,
   "id": "716ea597",
   "metadata": {},
   "outputs": [],
   "source": [
    "from dronekit import connect, VehicleMode, LocationGlobalRelative, APIException\n",
    "import time\n",
    "import socket\n",
    "#from pyexceptions import handle_exceptions\n",
    "import math\n",
    "import argparse"
   ]
  },
  {
   "cell_type": "code",
   "execution_count": 2,
   "id": "6c51a7df",
   "metadata": {},
   "outputs": [],
   "source": [
    "def connectMyCopter():\n",
    "    parser = argparse.ArgumentParser(description='commands')\n",
    "    parser.add_argument('--connect')\n",
    "    args = parser.parse_args()\n",
    "    \n",
    "    connection_string = args.connect\n",
    "    baud_rate = 921600\n",
    "    \n",
    "    vehicle = connect(connection_string,baud=baud_rate,wait_ready=True)\n",
    "    return vehicle\n",
    "\n",
    "def arm():\n",
    "    while vehicle.is_armable==False:\n",
    "        print(\"Waiting for vehicle to become armable..\")\n",
    "        time.sleep(1)\n",
    "    print(\"Yooooo vehicle is now armable\")\n",
    "    print(\"\")\n",
    "    \n",
    "    vehicle.armed=True\n",
    "    while vehicle.armed==False:\n",
    "        print(\"Waiting for drone to become armed..\")\n",
    "        time.sleep(1)\n",
    "        \n",
    "    print(\"Vehicle is now armed.\")\n",
    "    print(\"OMG propa are spinning. LOOK OUT!!!!!\")\n",
    "    \n",
    "    return None\n",
    "\n",
    "\n",
    "\n"
   ]
  },
  {
   "cell_type": "code",
   "execution_count": 3,
   "id": "4946f181",
   "metadata": {},
   "outputs": [
    {
     "name": "stderr",
     "output_type": "stream",
     "text": [
      "usage: ipykernel_launcher.py [-h] [--connect CONNECT]\n",
      "ipykernel_launcher.py: error: unrecognized arguments: -f /home/pi/.local/share/jupyter/runtime/kernel-dea7a886-61c5-4aca-b619-4494f11888f0.json\n"
     ]
    },
    {
     "ename": "SystemExit",
     "evalue": "2",
     "output_type": "error",
     "traceback": [
      "An exception has occurred, use %tb to see the full traceback.\n",
      "\u001b[0;31mSystemExit\u001b[0m\u001b[0;31m:\u001b[0m 2\n"
     ]
    },
    {
     "name": "stderr",
     "output_type": "stream",
     "text": [
      "/home/pi/.local/lib/python3.7/site-packages/IPython/core/interactiveshell.py:3449: UserWarning: To exit: use 'exit', 'quit', or Ctrl-D.\n",
      "  warn(\"To exit: use 'exit', 'quit', or Ctrl-D.\", stacklevel=1)\n"
     ]
    }
   ],
   "source": [
    "Vehicle = connectMyCopter()\n",
    "arm()\n",
    "print(\"End\")"
   ]
  },
  {
   "cell_type": "code",
   "execution_count": null,
   "id": "12d7acbb",
   "metadata": {},
   "outputs": [],
   "source": []
  },
  {
   "cell_type": "code",
   "execution_count": null,
   "id": "5200cbc6",
   "metadata": {},
   "outputs": [],
   "source": []
  }
 ],
 "metadata": {
  "kernelspec": {
   "display_name": "Python 3 (ipykernel)",
   "language": "python",
   "name": "python3"
  },
  "language_info": {
   "codemirror_mode": {
    "name": "ipython",
    "version": 3
   },
   "file_extension": ".py",
   "mimetype": "text/x-python",
   "name": "python",
   "nbconvert_exporter": "python",
   "pygments_lexer": "ipython3",
   "version": "3.7.3"
  }
 },
 "nbformat": 4,
 "nbformat_minor": 5
}
